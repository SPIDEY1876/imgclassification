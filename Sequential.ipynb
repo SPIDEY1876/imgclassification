{
  "cells": [
    {
      "cell_type": "markdown",
      "metadata": {
        "id": "view-in-github",
        "colab_type": "text"
      },
      "source": [
        "<a href=\"https://colab.research.google.com/github/SPIDEY1876/imgclassification/blob/new/Sequential.ipynb\" target=\"_parent\"><img src=\"https://colab.research.google.com/assets/colab-badge.svg\" alt=\"Open In Colab\"/></a>"
      ]
    },
    {
      "cell_type": "code",
      "execution_count": null,
      "metadata": {
        "id": "XcDKY3iVsco7"
      },
      "outputs": [],
      "source": [
        "import os\n",
        "import random\n",
        "import pandas as pd \n",
        "import numpy as np \n",
        "import matplotlib.pyplot as plt\n",
        "import cv2\n",
        "from tensorflow import keras\n",
        "import tensorflow as tf\n",
        "import keras.backend as K\n",
        "from tensorflow.keras.preprocessing.image import ImageDataGenerator\n",
        "from tensorflow.keras.models import Sequential\n",
        "from tensorflow.keras.layers import InputLayer, BatchNormalization, Dropout, Flatten, Dense, Activation, MaxPool2D, Conv2D\n",
        "from tensorflow.keras.layers import Conv2D, Dense, Flatten, Dropout, Activation\n",
        "from tensorflow.keras.layers import BatchNormalization, Reshape, MaxPooling2D, GlobalAveragePooling2D\n",
        "from tensorflow.keras.callbacks import EarlyStopping, ModelCheckpoint, ReduceLROnPlateau\n",
        "\n",
        "from sklearn.preprocessing import OneHotEncoder\n",
        "\n",
        "import warnings\n",
        "warnings.filterwarnings('ignore')"
      ]
    },
    {
      "cell_type": "code",
      "execution_count": null,
      "metadata": {
        "colab": {
          "base_uri": "https://localhost:8080/"
        },
        "id": "8dsoF_ktwheE",
        "outputId": "b418ef66-437d-4715-ee4c-7fb50ec8be27"
      },
      "outputs": [
        {
          "name": "stdout",
          "output_type": "stream",
          "text": [
            "['val_data.csv', 'train_data.csv', 'val_data_emp.csv', 'train_data_emp.csv', 'val', 'train']\n"
          ]
        }
      ],
      "source": [
        "print(os.listdir(\"/content/drive/MyDrive/Term_Dataset\"))"
      ]
    },
    {
      "cell_type": "code",
      "execution_count": null,
      "metadata": {
        "colab": {
          "base_uri": "https://localhost:8080/"
        },
        "id": "9PBMs8o2wkci",
        "outputId": "91b3cdb8-aff3-4328-90ed-7cd2d71b6a3d"
      },
      "outputs": [
        {
          "name": "stdout",
          "output_type": "stream",
          "text": [
            "864\n",
            "133\n"
          ]
        }
      ],
      "source": [
        "print(len(os.listdir(\"/content/drive/MyDrive/Term_Dataset/train\")))\n",
        "print(len(os.listdir(\"/content/drive/MyDrive/Term_Dataset/val\")))"
      ]
    },
    {
      "cell_type": "code",
      "execution_count": null,
      "metadata": {
        "id": "6_weTITzwlqT"
      },
      "outputs": [],
      "source": [
        "train = \"/content/drive/MyDrive/Term_Dataset/train\"\n",
        "test = \"/content/drive/MyDrive/Term_Dataset/val\"\n",
        "test_ds=\"/content/drive/MyDrive/Term_Test/test\"\n",
        "labels = pd.read_csv('/content/drive/MyDrive/Term_Dataset/train_data.csv')\n",
        "labels_test=pd.read_csv('/content/drive/MyDrive/Term_Dataset/val_data.csv')\n",
        "test_pd=pd.read_csv('/content/drive/MyDrive/Term_Test/test_data_emp.csv')"
      ]
    },
    {
      "cell_type": "code",
      "execution_count": null,
      "metadata": {
        "colab": {
          "base_uri": "https://localhost:8080/"
        },
        "id": "OP-Cy69w60iP",
        "outputId": "03be3c47-ff09-41a6-9b1b-1c811cdaf86d"
      },
      "outputs": [
        {
          "data": {
            "text/plain": [
              "0     NaN\n",
              "1     NaN\n",
              "2     NaN\n",
              "3     NaN\n",
              "4     NaN\n",
              "       ..\n",
              "283   NaN\n",
              "284   NaN\n",
              "285   NaN\n",
              "286   NaN\n",
              "287   NaN\n",
              "Name: class, Length: 288, dtype: float64"
            ]
          },
          "execution_count": 86,
          "metadata": {},
          "output_type": "execute_result"
        }
      ],
      "source": [
        "test_pd['class']"
      ]
    },
    {
      "cell_type": "code",
      "execution_count": null,
      "metadata": {
        "colab": {
          "base_uri": "https://localhost:8080/"
        },
        "id": "hn8hMUDh8F7Z",
        "outputId": "f36aabe4-5975-4895-80f1-187cc023aead"
      },
      "outputs": [
        {
          "data": {
            "text/plain": [
              "array(['bag', 'bed', 'chair', 'coffeetable', 'cup', 'kitchentools',\n",
              "       'lamp', 'laptop', 'LivingSofa', 'pot', 'shoe'], dtype=object)"
            ]
          },
          "execution_count": 76,
          "metadata": {},
          "output_type": "execute_result"
        }
      ],
      "source": [
        "labels_test['class'].unique()"
      ]
    },
    {
      "cell_type": "code",
      "execution_count": null,
      "metadata": {
        "id": "Csq0Cjjn9NZQ"
      },
      "outputs": [],
      "source": [
        "label_names=['bag', 'bed', 'chair', 'coffeetable', 'cup', 'kitchentools',\n",
        "       'lamp', 'laptop', 'LivingSofa', 'pot', 'shoe']"
      ]
    },
    {
      "cell_type": "code",
      "execution_count": null,
      "metadata": {
        "colab": {
          "base_uri": "https://localhost:8080/"
        },
        "id": "uCV_GBO0woOD",
        "outputId": "3716eb10-848e-4bdc-a728-3327b1d6b824"
      },
      "outputs": [
        {
          "name": "stdout",
          "output_type": "stream",
          "text": [
            "lamp            126\n",
            "pot              90\n",
            "shoe             90\n",
            "bag              72\n",
            "bed              72\n",
            "chair            72\n",
            "coffeetable      72\n",
            "cup              72\n",
            "kitchentools     72\n",
            "LivingSofa       72\n",
            "laptop           54\n",
            "Name: class, dtype: int64\n"
          ]
        }
      ],
      "source": [
        "print(labels['class'].value_counts())"
      ]
    },
    {
      "cell_type": "code",
      "execution_count": null,
      "metadata": {
        "colab": {
          "base_uri": "https://localhost:8080/",
          "height": 269
        },
        "id": "U8G39IIpwqC7",
        "outputId": "500db040-ee81-4717-8e11-44617d098da2"
      },
      "outputs": [
        {
          "data": {
            "image/png": "[encoded data removed]",
            "text/plain": [
              "<Figure size 1440x288 with 16 Axes>"
            ]
          },
          "metadata": {
            "needs_background": "light"
          },
          "output_type": "display_data"
        }
      ],
      "source": [
        "rand_images = random.sample(os.listdir(train), 16)\n",
        "test_iml=[]\n",
        "fig = plt.figure(figsize=(20,4))\n",
        "for i, im in enumerate(rand_images):\n",
        "    plt.subplot(2, 8, i+1)\n",
        "    im = cv2.imread(os.path.join(train, im),cv2.IMREAD_COLOR)\n",
        "    im=cv2.resize(im,dsize=(256,256),interpolation=cv2.INTER_AREA)\n",
        "    test_iml.append(im)\n",
        "    plt.imshow(im)\n",
        "  \n",
        "plt.show()"
      ]
    },
    {
      "cell_type": "code",
      "execution_count": null,
      "metadata": {
        "colab": {
          "base_uri": "https://localhost:8080/"
        },
        "id": "MqvajKZjwrWb",
        "outputId": "8babcc01-54e9-4787-af8f-611873f07a0e"
      },
      "outputs": [
        {
          "name": "stdout",
          "output_type": "stream",
          "text": [
            "692 172\n"
          ]
        }
      ],
      "source": [
        "validation_split = 0.8\n",
        "idxs = np.random.permutation(range(len(labels))) < validation_split*len(labels)\n",
        "\n",
        "train_labels = labels[idxs]\n",
        "val_labels = labels[~idxs]\n",
        "print(len(train_labels), len(val_labels))"
      ]
    },
    {
      "cell_type": "code",
      "execution_count": null,
      "metadata": {
        "colab": {
          "base_uri": "https://localhost:8080/",
          "height": 423
        },
        "id": "Dez4rMVK4ETA",
        "outputId": "3a722c29-e7a2-413b-d759-724644b355c8"
      },
      "outputs": [
        {
          "data": {
            "text/html": [
              "\n",
              "  <div id=\"df-8faa4046-b669-4b0e-80e0-604dfb0259e1\">\n",
              "    <div class=\"colab-df-container\">\n",
              "      <div>\n",
              "<style scoped>\n",
              "    .dataframe tbody tr th:only-of-type {\n",
              "        vertical-align: middle;\n",
              "    }\n",
              "\n",
              "    .dataframe tbody tr th {\n",
              "        vertical-align: top;\n",
              "    }\n",
              "\n",
              "    .dataframe thead th {\n",
              "        text-align: right;\n",
              "    }\n",
              "</style>\n",
              "<table border=\"1\" class=\"dataframe\">\n",
              "  <thead>\n",
              "    <tr style=\"text-align: right;\">\n",
              "      <th></th>\n",
              "      <th>Unnamed: 0</th>\n",
              "      <th>file_name</th>\n",
              "      <th>class</th>\n",
              "    </tr>\n",
              "  </thead>\n",
              "  <tbody>\n",
              "    <tr>\n",
              "      <th>0</th>\n",
              "      <td>0</td>\n",
              "      <td>img00047.png</td>\n",
              "      <td>bag</td>\n",
              "    </tr>\n",
              "    <tr>\n",
              "      <th>1</th>\n",
              "      <td>1</td>\n",
              "      <td>img00053.png</td>\n",
              "      <td>bag</td>\n",
              "    </tr>\n",
              "    <tr>\n",
              "      <th>2</th>\n",
              "      <td>2</td>\n",
              "      <td>img00052.png</td>\n",
              "      <td>bag</td>\n",
              "    </tr>\n",
              "    <tr>\n",
              "      <th>3</th>\n",
              "      <td>3</td>\n",
              "      <td>img00046.png</td>\n",
              "      <td>bag</td>\n",
              "    </tr>\n",
              "    <tr>\n",
              "      <th>4</th>\n",
              "      <td>4</td>\n",
              "      <td>img00050.png</td>\n",
              "      <td>bag</td>\n",
              "    </tr>\n",
              "    <tr>\n",
              "      <th>...</th>\n",
              "      <td>...</td>\n",
              "      <td>...</td>\n",
              "      <td>...</td>\n",
              "    </tr>\n",
              "    <tr>\n",
              "      <th>859</th>\n",
              "      <td>859</td>\n",
              "      <td>img00908.png</td>\n",
              "      <td>shoe</td>\n",
              "    </tr>\n",
              "    <tr>\n",
              "      <th>860</th>\n",
              "      <td>860</td>\n",
              "      <td>img00922.png</td>\n",
              "      <td>shoe</td>\n",
              "    </tr>\n",
              "    <tr>\n",
              "      <th>861</th>\n",
              "      <td>861</td>\n",
              "      <td>img00936.png</td>\n",
              "      <td>shoe</td>\n",
              "    </tr>\n",
              "    <tr>\n",
              "      <th>862</th>\n",
              "      <td>862</td>\n",
              "      <td>img00937.png</td>\n",
              "      <td>shoe</td>\n",
              "    </tr>\n",
              "    <tr>\n",
              "      <th>863</th>\n",
              "      <td>863</td>\n",
              "      <td>img00923.png</td>\n",
              "      <td>shoe</td>\n",
              "    </tr>\n",
              "  </tbody>\n",
              "</table>\n",
              "<p>692 rows × 3 columns</p>\n",
              "</div>\n",
              "      <button class=\"colab-df-convert\" onclick=\"convertToInteractive('df-8faa4046-b669-4b0e-80e0-604dfb0259e1')\"\n",
              "              title=\"Convert this dataframe to an interactive table.\"\n",
              "              style=\"display:none;\">\n",
              "        \n",
              "  <svg xmlns=\"http://www.w3.org/2000/svg\" height=\"24px\"viewBox=\"0 0 24 24\"\n",
              "       width=\"24px\">\n",
              "    <path d=\"M0 0h24v24H0V0z\" fill=\"none\"/>\n",
              "    <path d=\"M18.56 5.44l.94 2.06.94-2.06 2.06-.94-2.06-.94-.94-2.06-.94 2.06-2.06.94zm-11 1L8.5 8.5l.94-2.06 2.06-.94-2.06-.94L8.5 2.5l-.94 2.06-2.06.94zm10 10l.94 2.06.94-2.06 2.06-.94-2.06-.94-.94-2.06-.94 2.06-2.06.94z\"/><path d=\"M17.41 7.96l-1.37-1.37c-.4-.4-.92-.59-1.43-.59-.52 0-1.04.2-1.43.59L10.3 9.45l-7.72 7.72c-.78.78-.78 2.05 0 2.83L4 21.41c.39.39.9.59 1.41.59.51 0 1.02-.2 1.41-.59l7.78-7.78 2.81-2.81c.8-.78.8-2.07 0-2.86zM5.41 20L4 18.59l7.72-7.72 1.47 1.35L5.41 20z\"/>\n",
              "  </svg>\n",
              "      </button>\n",
              "      \n",
              "  <style>\n",
              "    .colab-df-container {\n",
              "      display:flex;\n",
              "      flex-wrap:wrap;\n",
              "      gap: 12px;\n",
              "    }\n",
              "\n",
              "    .colab-df-convert {\n",
              "      background-color: #E8F0FE;\n",
              "      border: none;\n",
              "      border-radius: 50%;\n",
              "      cursor: pointer;\n",
              "      display: none;\n",
              "      fill: #1967D2;\n",
              "      height: 32px;\n",
              "      padding: 0 0 0 0;\n",
              "      width: 32px;\n",
              "    }\n",
              "\n",
              "    .colab-df-convert:hover {\n",
              "      background-color: #E2EBFA;\n",
              "      box-shadow: 0px 1px 2px rgba(60, 64, 67, 0.3), 0px 1px 3px 1px rgba(60, 64, 67, 0.15);\n",
              "      fill: #174EA6;\n",
              "    }\n",
              "\n",
              "    [theme=dark] .colab-df-convert {\n",
              "      background-color: #3B4455;\n",
              "      fill: #D2E3FC;\n",
              "    }\n",
              "\n",
              "    [theme=dark] .colab-df-convert:hover {\n",
              "      background-color: #434B5C;\n",
              "      box-shadow: 0px 1px 3px 1px rgba(0, 0, 0, 0.15);\n",
              "      filter: drop-shadow(0px 1px 2px rgba(0, 0, 0, 0.3));\n",
              "      fill: #FFFFFF;\n",
              "    }\n",
              "  </style>\n",
              "\n",
              "      <script>\n",
              "        const buttonEl =\n",
              "          document.querySelector('#df-8faa4046-b669-4b0e-80e0-604dfb0259e1 button.colab-df-convert');\n",
              "        buttonEl.style.display =\n",
              "          google.colab.kernel.accessAllowed ? 'block' : 'none';\n",
              "\n",
              "        async function convertToInteractive(key) {\n",
              "          const element = document.querySelector('#df-8faa4046-b669-4b0e-80e0-604dfb0259e1');\n",
              "          const dataTable =\n",
              "            await google.colab.kernel.invokeFunction('convertToInteractive',\n",
              "                                                     [key], {});\n",
              "          if (!dataTable) return;\n",
              "\n",
              "          const docLinkHtml = 'Like what you see? Visit the ' +\n",
              "            '<a target=\"_blank\" href=https://colab.research.google.com/notebooks/data_table.ipynb>data table notebook</a>'\n",
              "            + ' to learn more about interactive tables.';\n",
              "          element.innerHTML = '';\n",
              "          dataTable['output_type'] = 'display_data';\n",
              "          await google.colab.output.renderOutput(dataTable, element);\n",
              "          const docLink = document.createElement('div');\n",
              "          docLink.innerHTML = docLinkHtml;\n",
              "          element.appendChild(docLink);\n",
              "        }\n",
              "      </script>\n",
              "    </div>\n",
              "  </div>\n",
              "  "
            ],
            "text/plain": [
              "     Unnamed: 0     file_name class\n",
              "0             0  img00047.png   bag\n",
              "1             1  img00053.png   bag\n",
              "2             2  img00052.png   bag\n",
              "3             3  img00046.png   bag\n",
              "4             4  img00050.png   bag\n",
              "..          ...           ...   ...\n",
              "859         859  img00908.png  shoe\n",
              "860         860  img00922.png  shoe\n",
              "861         861  img00936.png  shoe\n",
              "862         862  img00937.png  shoe\n",
              "863         863  img00923.png  shoe\n",
              "\n",
              "[692 rows x 3 columns]"
            ]
          },
          "execution_count": 50,
          "metadata": {},
          "output_type": "execute_result"
        }
      ],
      "source": [
        "train_labels"
      ]
    },
    {
      "cell_type": "code",
      "execution_count": null,
      "metadata": {
        "colab": {
          "base_uri": "https://localhost:8080/"
        },
        "id": "c-GED7zvwx78",
        "outputId": "2c778786-9a08-4d84-a57f-8b5d39ac7424"
      },
      "outputs": [
        {
          "name": "stdout",
          "output_type": "stream",
          "text": [
            "Found 692 validated image filenames belonging to 11 classes.\n",
            "Found 65 validated image filenames belonging to 4 classes.\n"
          ]
        }
      ],
      "source": [
        "train_datagen = keras.preprocessing.image.ImageDataGenerator(rescale=1/255, horizontal_flip=True, \n",
        "                                                             rotation_range=5,\n",
        "                                                             shear_range=0.2,\n",
        "                                                             height_shift_range=0.2,\n",
        "                                                             width_shift_range=0.2,\n",
        "                                                             vertical_flip=True,\n",
        "                                                            fill_mode='nearest')\n",
        "batch_size = 32\n",
        "\n",
        "train_generator = train_datagen.flow_from_dataframe(train_labels,directory=train,x_col='file_name',\n",
        "                                                    y_col='class',class_mode='categorical',batch_size=batch_size,\n",
        "                                                    target_size=(150,150))\n",
        "val_generator = train_datagen.flow_from_dataframe(val_labels,directory=test_ds,x_col='file_name',\n",
        "                                                    y_col='class',class_mode='categorical',batch_size=batch_size,\n",
        "                                                    target_size=(150,150))"
      ]
    },
    {
      "cell_type": "code",
      "execution_count": null,
      "metadata": {
        "colab": {
          "base_uri": "https://localhost:8080/"
        },
        "id": "n76oIHu700J_",
        "outputId": "c937981b-92aa-4b9e-883f-1d4dcf210666"
      },
      "outputs": [
        {
          "name": "stdout",
          "output_type": "stream",
          "text": [
            "Found 133 validated image filenames.\n"
          ]
        }
      ],
      "source": [
        "test_datagen = keras.preprocessing.image.ImageDataGenerator(rescale = 1/255)\n",
        "\n",
        "test_generator = test_datagen.flow_from_dataframe(labels_test,directory=test,x_col='file_name',\n",
        "                                                    class_mode=None,batch_size=batch_size,\n",
        "                                                    target_size=(150,150))"
      ]
    },
    {
      "cell_type": "code",
      "execution_count": null,
      "metadata": {
        "colab": {
          "base_uri": "https://localhost:8080/"
        },
        "id": "-CzFDHwOw0FF",
        "outputId": "0a1d0868-9a44-4367-8967-84f4c18b789e"
      },
      "outputs": [
        {
          "name": "stdout",
          "output_type": "stream",
          "text": [
            "Downloading data from https://storage.googleapis.com/tensorflow/keras-applications/inception_v3/inception_v3_weights_tf_dim_ordering_tf_kernels_notop.h5\n",
            "87910968/87910968 [==============================] - 1s 0us/step\n"
          ]
        }
      ],
      "source": [
        "base_model = tf.keras.applications.InceptionV3(input_shape=(150,150,3),include_top=False,weights=\"imagenet\")"
      ]
    },
    {
      "cell_type": "code",
      "execution_count": null,
      "metadata": {
        "id": "PXmjsNwaw2gd"
      },
      "outputs": [],
      "source": [
        "for layer in base_model.layers[:-10]:\n",
        "    layer.trainable=False"
      ]
    },
    {
      "cell_type": "code",
      "execution_count": null,
      "metadata": {
        "colab": {
          "base_uri": "https://localhost:8080/"
        },
        "id": "Lz-kYrRuw2_T",
        "outputId": "97097947-e80c-4b46-ac2f-fd704d15ed62"
      },
      "outputs": [
        {
          "name": "stdout",
          "output_type": "stream",
          "text": [
            "Model: \"sequential\"\n",
            "_________________________________________________________________\n",
            " Layer (type)                Output Shape              Param #   \n",
            "=================================================================\n",
            " inception_v3 (Functional)   (None, 3, 3, 2048)        21802784  \n",
            "                                                                 \n",
            " dropout (Dropout)           (None, 3, 3, 2048)        0         \n",
            "                                                                 \n",
            " flatten (Flatten)           (None, 18432)             0         \n",
            "                                                                 \n",
            " dense (Dense)               (None, 128)               2359424   \n",
            "                                                                 \n",
            " dense_1 (Dense)             (None, 128)               16512     \n",
            "                                                                 \n",
            " dense_2 (Dense)             (None, 11)                1419      \n",
            "                                                                 \n",
            "=================================================================\n",
            "Total params: 24,180,139\n",
            "Trainable params: 2,377,547\n",
            "Non-trainable params: 21,802,592\n",
            "_________________________________________________________________\n"
          ]
        }
      ],
      "source": [
        "model=Sequential()\n",
        "model.add(base_model)\n",
        "model.add(Dropout(0.2))\n",
        "model.add(Flatten())\n",
        "model.add(Dense(128, activation='relu'))\n",
        "model.add(Dense(128, activation='relu'))\n",
        "model.add(Dense(11, activation='softmax'))\n",
        "model.summary()"
      ]
    },
    {
      "cell_type": "code",
      "execution_count": null,
      "metadata": {
        "colab": {
          "base_uri": "https://localhost:8080/",
          "height": 754
        },
        "id": "b0WLBsNuw5Dr",
        "outputId": "00b30c8c-956b-4e85-a377-f69603171bd0"
      },
      "outputs": [
        {
          "data": {
            "image/png": "[encoded data removed]",
            "text/plain": [
              "<IPython.core.display.Image object>"
            ]
          },
          "execution_count": 13,
          "metadata": {},
          "output_type": "execute_result"
        }
      ],
      "source": [
        "from tensorflow.keras.utils import plot_model\n",
        "from IPython.display import Image\n",
        "plot_model(model, to_file='convnet.png', show_shapes=True,show_layer_names=True)\n",
        "Image(filename='convnet.png')"
      ]
    },
    {
      "cell_type": "code",
      "execution_count": null,
      "metadata": {
        "id": "zw8CToiKw6b7"
      },
      "outputs": [],
      "source": [
        "def f1_score(y_true, y_pred):\n",
        "    true_positives = K.sum(K.round(K.clip(y_true * y_pred, 0, 1)))\n",
        "    possible_positives = K.sum(K.round(K.clip(y_true, 0, 1)))\n",
        "    predicted_positives = K.sum(K.round(K.clip(y_pred, 0, 1)))\n",
        "    precision = true_positives / (predicted_positives + K.epsilon())\n",
        "    recall = true_positives / (possible_positives + K.epsilon())\n",
        "    f1_val = 2*(precision*recall)/(precision+recall+K.epsilon())\n",
        "    return f1_val"
      ]
    },
    {
      "cell_type": "code",
      "execution_count": null,
      "metadata": {
        "id": "p-uH-DErw7nr"
      },
      "outputs": [],
      "source": [
        "METRICS = [\n",
        "      tf.keras.metrics.CategoricalAccuracy(name='accuracy'),\n",
        "      tf.keras.metrics.Precision(name='precision'),\n",
        "      tf.keras.metrics.Recall(name='recall'),  \n",
        "      tf.keras.metrics.AUC(name='auc'),\n",
        "        f1_score,\n",
        "]"
      ]
    },
    {
      "cell_type": "code",
      "execution_count": null,
      "metadata": {
        "id": "VW6CKMVow87E"
      },
      "outputs": [],
      "source": [
        "lrd = ReduceLROnPlateau(monitor = 'val_loss',patience = 3,verbose = 1,factor = 0.50, min_lr = 1e-6)\n",
        "\n",
        "mcp = ModelCheckpoint('model.h5')\n",
        "\n",
        "es = EarlyStopping(verbose=1, patience=3)"
      ]
    },
    {
      "cell_type": "code",
      "execution_count": null,
      "metadata": {
        "id": "JSorlSpSw-bj"
      },
      "outputs": [],
      "source": [
        "model.compile(optimizer='Adam', loss = tf.keras.losses.CategoricalCrossentropy(),metrics=METRICS)"
      ]
    },
    {
      "cell_type": "code",
      "execution_count": null,
      "metadata": {
        "colab": {
          "base_uri": "https://localhost:8080/"
        },
        "id": "yKauKqeWw_0b",
        "outputId": "d8a72a4c-15ab-45db-c6f5-4e2c528b6d12"
      },
      "outputs": [
        {
          "name": "stdout",
          "output_type": "stream",
          "text": [
            "CPU times: user 3 µs, sys: 1 µs, total: 4 µs\n",
            "Wall time: 7.15 µs\n",
            "Epoch 1/10\n",
            "22/22 [==============================] - 38s 1s/step - loss: 2.4554 - accuracy: 0.4234 - precision: 0.5385 - recall: 0.2327 - auc: 0.7593 - f1_score: 0.3162 - val_loss: 1.0616 - val_accuracy: 0.6860 - val_precision: 0.8317 - val_recall: 0.4884 - val_auc: 0.9492 - val_f1_score: 0.5978 - lr: 0.0010\n",
            "Epoch 2/10\n",
            "22/22 [==============================] - 26s 1s/step - loss: 0.6911 - accuracy: 0.8121 - precision: 0.9155 - recall: 0.6575 - auc: 0.9756 - f1_score: 0.7604 - val_loss: 0.6408 - val_accuracy: 0.8023 - val_precision: 0.8611 - val_recall: 0.7209 - val_auc: 0.9768 - val_f1_score: 0.7771 - lr: 0.0010\n",
            "Epoch 3/10\n",
            "22/22 [==============================] - 22s 1s/step - loss: 0.4028 - accuracy: 0.8844 - precision: 0.9510 - recall: 0.8136 - auc: 0.9908 - f1_score: 0.8722 - val_loss: 0.4028 - val_accuracy: 0.8721 - val_precision: 0.9133 - val_recall: 0.7965 - val_auc: 0.9927 - val_f1_score: 0.8546 - lr: 0.0010\n",
            "Epoch 4/10\n",
            "22/22 [==============================] - 22s 997ms/step - loss: 0.3017 - accuracy: 0.9176 - precision: 0.9440 - recall: 0.8526 - auc: 0.9942 - f1_score: 0.8954 - val_loss: 0.4107 - val_accuracy: 0.8779 - val_precision: 0.9013 - val_recall: 0.7965 - val_auc: 0.9915 - val_f1_score: 0.8442 - lr: 0.0010\n",
            "Epoch 5/10\n",
            "22/22 [==============================] - 22s 976ms/step - loss: 0.2340 - accuracy: 0.9364 - precision: 0.9642 - recall: 0.8960 - auc: 0.9961 - f1_score: 0.9285 - val_loss: 0.3117 - val_accuracy: 0.9302 - val_precision: 0.9321 - val_recall: 0.8779 - val_auc: 0.9914 - val_f1_score: 0.9100 - lr: 0.0010\n",
            "Epoch 6/10\n",
            "22/22 [==============================] - 22s 1s/step - loss: 0.1822 - accuracy: 0.9624 - precision: 0.9711 - recall: 0.9234 - auc: 0.9975 - f1_score: 0.9468 - val_loss: 0.1394 - val_accuracy: 0.9593 - val_precision: 0.9583 - val_recall: 0.9360 - val_auc: 0.9993 - val_f1_score: 0.9520 - lr: 0.0010\n",
            "Epoch 7/10\n",
            "22/22 [==============================] - 23s 1s/step - loss: 0.1915 - accuracy: 0.9566 - precision: 0.9671 - recall: 0.9350 - auc: 0.9949 - f1_score: 0.9504 - val_loss: 0.3269 - val_accuracy: 0.9070 - val_precision: 0.9102 - val_recall: 0.8837 - val_auc: 0.9872 - val_f1_score: 0.9068 - lr: 0.0010\n",
            "Epoch 8/10\n",
            "22/22 [==============================] - 22s 1s/step - loss: 0.1817 - accuracy: 0.9509 - precision: 0.9585 - recall: 0.9335 - auc: 0.9973 - f1_score: 0.9467 - val_loss: 0.3182 - val_accuracy: 0.9070 - val_precision: 0.9317 - val_recall: 0.8721 - val_auc: 0.9892 - val_f1_score: 0.9022 - lr: 0.0010\n",
            "Epoch 9/10\n",
            "22/22 [==============================] - ETA: 0s - loss: 0.1804 - accuracy: 0.9480 - precision: 0.9570 - recall: 0.9335 - auc: 0.9968 - f1_score: 0.9450\n",
            "Epoch 9: ReduceLROnPlateau reducing learning rate to 0.0005000000237487257.\n",
            "22/22 [==============================] - 22s 1s/step - loss: 0.1804 - accuracy: 0.9480 - precision: 0.9570 - recall: 0.9335 - auc: 0.9968 - f1_score: 0.9450 - val_loss: 0.4266 - val_accuracy: 0.8837 - val_precision: 0.8869 - val_recall: 0.8663 - val_auc: 0.9892 - val_f1_score: 0.8804 - lr: 0.0010\n",
            "Epoch 9: early stopping\n"
          ]
        }
      ],
      "source": [
        "%time\n",
        "history=model.fit(train_generator,validation_data=val_generator,epochs = 10,verbose = 1,callbacks=[lrd,mcp,es])"
      ]
    },
    {
      "cell_type": "code",
      "execution_count": null,
      "metadata": {
        "colab": {
          "base_uri": "https://localhost:8080/"
        },
        "id": "ZXDQ8Ztnhttl",
        "outputId": "73c276de-42b2-4abc-ad30-9049b06804e6"
      },
      "outputs": [
        {
          "name": "stdout",
          "output_type": "stream",
          "text": [
            "5/5 [==============================] - 27s 6s/step\n"
          ]
        }
      ],
      "source": [
        "pred=model.predict(test_generator)\n",
        "pred_digits=np.argmax(pred,axis=1)"
      ]
    },
    {
      "cell_type": "code",
      "execution_count": null,
      "metadata": {
        "colab": {
          "base_uri": "https://localhost:8080/"
        },
        "id": "iRANAbbv-mEQ",
        "outputId": "2dccd136-3cb2-4cd2-e81f-d0ed97b59ad1"
      },
      "outputs": [
        {
          "data": {
            "text/plain": [
              "133"
            ]
          },
          "execution_count": 103,
          "metadata": {},
          "output_type": "execute_result"
        }
      ],
      "source": [
        "loop_length=len(pred)\n",
        "loop_length"
      ]
    },
    {
      "cell_type": "code",
      "execution_count": null,
      "metadata": {
        "id": "zOHC7DvQ6IlQ"
      },
      "outputs": [],
      "source": [
        "for i in range(0,loop_length):\n",
        "  idx=np.argmax(pred[i])\n",
        "  test_pd['class'][i]=label_names[idx]"
      ]
    },
    {
      "cell_type": "code",
      "execution_count": null,
      "metadata": {
        "colab": {
          "base_uri": "https://localhost:8080/",
          "height": 423
        },
        "id": "Y76XmavD-62g",
        "outputId": "e558c2e9-c1dd-45fd-e08e-ec6d33c34407"
      },
      "outputs": [
        {
          "data": {
            "text/html": [
              "\n",
              "  <div id=\"df-1a9d02ce-2fd3-47ef-83f6-6df68e3de1c6\">\n",
              "    <div class=\"colab-df-container\">\n",
              "      <div>\n",
              "<style scoped>\n",
              "    .dataframe tbody tr th:only-of-type {\n",
              "        vertical-align: middle;\n",
              "    }\n",
              "\n",
              "    .dataframe tbody tr th {\n",
              "        vertical-align: top;\n",
              "    }\n",
              "\n",
              "    .dataframe thead th {\n",
              "        text-align: right;\n",
              "    }\n",
              "</style>\n",
              "<table border=\"1\" class=\"dataframe\">\n",
              "  <thead>\n",
              "    <tr style=\"text-align: right;\">\n",
              "      <th></th>\n",
              "      <th>Unnamed: 0</th>\n",
              "      <th>file_name</th>\n",
              "      <th>class</th>\n",
              "    </tr>\n",
              "  </thead>\n",
              "  <tbody>\n",
              "    <tr>\n",
              "      <th>0</th>\n",
              "      <td>0</td>\n",
              "      <td>img00018.png</td>\n",
              "      <td>chair</td>\n",
              "    </tr>\n",
              "    <tr>\n",
              "      <th>1</th>\n",
              "      <td>1</td>\n",
              "      <td>img00024.png</td>\n",
              "      <td>kitchentools</td>\n",
              "    </tr>\n",
              "    <tr>\n",
              "      <th>2</th>\n",
              "      <td>2</td>\n",
              "      <td>img00019.png</td>\n",
              "      <td>kitchentools</td>\n",
              "    </tr>\n",
              "    <tr>\n",
              "      <th>3</th>\n",
              "      <td>3</td>\n",
              "      <td>img00022.png</td>\n",
              "      <td>coffeetable</td>\n",
              "    </tr>\n",
              "    <tr>\n",
              "      <th>4</th>\n",
              "      <td>4</td>\n",
              "      <td>img00023.png</td>\n",
              "      <td>cup</td>\n",
              "    </tr>\n",
              "    <tr>\n",
              "      <th>...</th>\n",
              "      <td>...</td>\n",
              "      <td>...</td>\n",
              "      <td>...</td>\n",
              "    </tr>\n",
              "    <tr>\n",
              "      <th>283</th>\n",
              "      <td>283</td>\n",
              "      <td>img00288.png</td>\n",
              "      <td>pot</td>\n",
              "    </tr>\n",
              "    <tr>\n",
              "      <th>284</th>\n",
              "      <td>284</td>\n",
              "      <td>img00261.png</td>\n",
              "      <td>pot</td>\n",
              "    </tr>\n",
              "    <tr>\n",
              "      <th>285</th>\n",
              "      <td>285</td>\n",
              "      <td>img00275.png</td>\n",
              "      <td>pot</td>\n",
              "    </tr>\n",
              "    <tr>\n",
              "      <th>286</th>\n",
              "      <td>286</td>\n",
              "      <td>img00274.png</td>\n",
              "      <td>pot</td>\n",
              "    </tr>\n",
              "    <tr>\n",
              "      <th>287</th>\n",
              "      <td>287</td>\n",
              "      <td>img00260.png</td>\n",
              "      <td>pot</td>\n",
              "    </tr>\n",
              "  </tbody>\n",
              "</table>\n",
              "<p>288 rows × 3 columns</p>\n",
              "</div>\n",
              "      <button class=\"colab-df-convert\" onclick=\"convertToInteractive('df-1a9d02ce-2fd3-47ef-83f6-6df68e3de1c6')\"\n",
              "              title=\"Convert this dataframe to an interactive table.\"\n",
              "              style=\"display:none;\">\n",
              "        \n",
              "  <svg xmlns=\"http://www.w3.org/2000/svg\" height=\"24px\"viewBox=\"0 0 24 24\"\n",
              "       width=\"24px\">\n",
              "    <path d=\"M0 0h24v24H0V0z\" fill=\"none\"/>\n",
              "    <path d=\"M18.56 5.44l.94 2.06.94-2.06 2.06-.94-2.06-.94-.94-2.06-.94 2.06-2.06.94zm-11 1L8.5 8.5l.94-2.06 2.06-.94-2.06-.94L8.5 2.5l-.94 2.06-2.06.94zm10 10l.94 2.06.94-2.06 2.06-.94-2.06-.94-.94-2.06-.94 2.06-2.06.94z\"/><path d=\"M17.41 7.96l-1.37-1.37c-.4-.4-.92-.59-1.43-.59-.52 0-1.04.2-1.43.59L10.3 9.45l-7.72 7.72c-.78.78-.78 2.05 0 2.83L4 21.41c.39.39.9.59 1.41.59.51 0 1.02-.2 1.41-.59l7.78-7.78 2.81-2.81c.8-.78.8-2.07 0-2.86zM5.41 20L4 18.59l7.72-7.72 1.47 1.35L5.41 20z\"/>\n",
              "  </svg>\n",
              "      </button>\n",
              "      \n",
              "  <style>\n",
              "    .colab-df-container {\n",
              "      display:flex;\n",
              "      flex-wrap:wrap;\n",
              "      gap: 12px;\n",
              "    }\n",
              "\n",
              "    .colab-df-convert {\n",
              "      background-color: #E8F0FE;\n",
              "      border: none;\n",
              "      border-radius: 50%;\n",
              "      cursor: pointer;\n",
              "      display: none;\n",
              "      fill: #1967D2;\n",
              "      height: 32px;\n",
              "      padding: 0 0 0 0;\n",
              "      width: 32px;\n",
              "    }\n",
              "\n",
              "    .colab-df-convert:hover {\n",
              "      background-color: #E2EBFA;\n",
              "      box-shadow: 0px 1px 2px rgba(60, 64, 67, 0.3), 0px 1px 3px 1px rgba(60, 64, 67, 0.15);\n",
              "      fill: #174EA6;\n",
              "    }\n",
              "\n",
              "    [theme=dark] .colab-df-convert {\n",
              "      background-color: #3B4455;\n",
              "      fill: #D2E3FC;\n",
              "    }\n",
              "\n",
              "    [theme=dark] .colab-df-convert:hover {\n",
              "      background-color: #434B5C;\n",
              "      box-shadow: 0px 1px 3px 1px rgba(0, 0, 0, 0.15);\n",
              "      filter: drop-shadow(0px 1px 2px rgba(0, 0, 0, 0.3));\n",
              "      fill: #FFFFFF;\n",
              "    }\n",
              "  </style>\n",
              "\n",
              "      <script>\n",
              "        const buttonEl =\n",
              "          document.querySelector('#df-1a9d02ce-2fd3-47ef-83f6-6df68e3de1c6 button.colab-df-convert');\n",
              "        buttonEl.style.display =\n",
              "          google.colab.kernel.accessAllowed ? 'block' : 'none';\n",
              "\n",
              "        async function convertToInteractive(key) {\n",
              "          const element = document.querySelector('#df-1a9d02ce-2fd3-47ef-83f6-6df68e3de1c6');\n",
              "          const dataTable =\n",
              "            await google.colab.kernel.invokeFunction('convertToInteractive',\n",
              "                                                     [key], {});\n",
              "          if (!dataTable) return;\n",
              "\n",
              "          const docLinkHtml = 'Like what you see? Visit the ' +\n",
              "            '<a target=\"_blank\" href=https://colab.research.google.com/notebooks/data_table.ipynb>data table notebook</a>'\n",
              "            + ' to learn more about interactive tables.';\n",
              "          element.innerHTML = '';\n",
              "          dataTable['output_type'] = 'display_data';\n",
              "          await google.colab.output.renderOutput(dataTable, element);\n",
              "          const docLink = document.createElement('div');\n",
              "          docLink.innerHTML = docLinkHtml;\n",
              "          element.appendChild(docLink);\n",
              "        }\n",
              "      </script>\n",
              "    </div>\n",
              "  </div>\n",
              "  "
            ],
            "text/plain": [
              "     Unnamed: 0     file_name         class\n",
              "0             0  img00018.png         chair\n",
              "1             1  img00024.png  kitchentools\n",
              "2             2  img00019.png  kitchentools\n",
              "3             3  img00022.png   coffeetable\n",
              "4             4  img00023.png           cup\n",
              "..          ...           ...           ...\n",
              "283         283  img00288.png           pot\n",
              "284         284  img00261.png           pot\n",
              "285         285  img00275.png           pot\n",
              "286         286  img00274.png           pot\n",
              "287         287  img00260.png           pot\n",
              "\n",
              "[288 rows x 3 columns]"
            ]
          },
          "execution_count": 108,
          "metadata": {},
          "output_type": "execute_result"
        }
      ],
      "source": [
        "test_pd"
      ]
    },
    {
      "cell_type": "code",
      "execution_count": null,
      "metadata": {
        "id": "QNvFLDKRAOPI"
      },
      "outputs": [],
      "source": [
        "test_pd.to_csv(\"/content/drive/MyDrive/Term_Dataset/result.csv\")"
      ]
    }
  ],
  "metadata": {
    "accelerator": "GPU",
    "colab": {
      "provenance": [],
      "include_colab_link": true
    },
    "gpuClass": "standard",
    "kernelspec": {
      "display_name": "Python 3",
      "name": "python3"
    },
    "language_info": {
      "name": "python"
    }
  },
  "nbformat": 4,
  "nbformat_minor": 0
}